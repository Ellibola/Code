{
 "cells": [
  {
   "cell_type": "code",
   "execution_count": 1,
   "metadata": {},
   "outputs": [],
   "source": [
    "import torch\n",
    "import torch.nn as nn\n",
    "import torch.nn.functional as F\n",
    "from data.data_wizard import data_wizard\n",
    "from models.ExpNorm import ExpNorm2d, ExpNorm1d\n",
    "import math\n",
    "import random\n",
    "import numpy as np"
   ]
  },
  {
   "cell_type": "code",
   "execution_count": 2,
   "metadata": {},
   "outputs": [
    {
     "name": "stdout",
     "output_type": "stream",
     "text": [
      "Files already downloaded and verified\n",
      "Files already downloaded and verified\n",
      "Files already downloaded and verified\n",
      "Files already downloaded and verified\n"
     ]
    }
   ],
   "source": [
    "train_loader_batch, _, _ = data_wizard(\n",
    "    name='cifar100',\n",
    "    batch_size=200,\n",
    "    val_par=0.1\n",
    ")\n",
    "train_loader_ol, _, _ = data_wizard(\n",
    "    name='cifar100',\n",
    "    batch_size=1,\n",
    "    val_par=0.1\n",
    ")"
   ]
  },
  {
   "cell_type": "code",
   "execution_count": 3,
   "metadata": {},
   "outputs": [],
   "source": [
    "EPOCHS_OL = 1\n",
    "EPOCHS_B = EPOCHS_OL*1"
   ]
  },
  {
   "cell_type": "code",
   "execution_count": 4,
   "metadata": {},
   "outputs": [],
   "source": [
    "bnorm = nn.BatchNorm2d(3, affine=False).to('cuda:0')\n",
    "expnorm = ExpNorm2d(3, affine=False, eps=0.5).to('cuda:0')"
   ]
  },
  {
   "cell_type": "code",
   "execution_count": 5,
   "metadata": {},
   "outputs": [
    {
     "name": "stdout",
     "output_type": "stream",
     "text": [
      "With BatchNorm, mean:tensor([0.4962, 0.4683, 0.4196], device='cuda:0'), std:tensor([0.0669, 0.0603, 0.0691], device='cuda:0')\n"
     ]
    }
   ],
   "source": [
    "bnorm.train()\n",
    "for ep in range(EPOCHS_B):\n",
    "    for img, _ in train_loader_batch:\n",
    "        out = bnorm(img.to('cuda:0'))\n",
    "bnorm.eval()\n",
    "print(\"With BatchNorm, mean:{}, std:{}\".format(bnorm.running_mean, bnorm.running_var))"
   ]
  },
  {
   "cell_type": "code",
   "execution_count": 6,
   "metadata": {},
   "outputs": [
    {
     "name": "stdout",
     "output_type": "stream",
     "text": [
      "With ExpNorm, mean:tensor([0.4978, 0.4679, 0.4193], device='cuda:0'), std:tensor([0.0667, 0.0601, 0.0688], device='cuda:0')\n"
     ]
    }
   ],
   "source": [
    "expnorm.train()\n",
    "for ep in range(EPOCHS_OL):\n",
    "    for img, _ in train_loader_batch:\n",
    "        out = expnorm(img.to('cuda:0'))\n",
    "expnorm.eval()\n",
    "print(\"With ExpNorm, mean:{}, std:{}\".format(expnorm.running_mean, expnorm.running_var))"
   ]
  },
  {
   "cell_type": "code",
   "execution_count": 7,
   "metadata": {},
   "outputs": [
    {
     "name": "stdout",
     "output_type": "stream",
     "text": [
      "Exp avg:0.4865380189675993\n",
      "Noraml avg:0.5000315170590531\n"
     ]
    }
   ],
   "source": [
    "# Numerical study\n",
    "N_STEP = 1000000\n",
    "exp_avg = 0\n",
    "for _ in range(1000000):\n",
    "    exp_avg = exp_avg*0.9 + 0.1*random.random()\n",
    "print(f\"Exp avg:{exp_avg}\")\n",
    "# Normal avg\n",
    "sum_normal = 0\n",
    "for _ in range(1000000):\n",
    "    sum_normal += random.random()\n",
    "print(f\"Noraml avg:{sum_normal/1000000}\")"
   ]
  },
  {
   "cell_type": "code",
   "execution_count": 8,
   "metadata": {},
   "outputs": [
    {
     "name": "stdout",
     "output_type": "stream",
     "text": [
      "With ExpNorm, mean:tensor([ 0.0121, -0.0083,  0.0176]), std:tensor([1.0016, 1.0090, 0.9884])\n"
     ]
    }
   ],
   "source": [
    "expnorm1d = ExpNorm1d(3).train()\n",
    "for _ in range(10000):\n",
    "    expnorm1d(torch.rand([1,3]))\n",
    "expnorm1d.eval()\n",
    "print(\"With ExpNorm, mean:{}, std:{}\".format(expnorm1d.running_mean, expnorm1d.running_var))"
   ]
  }
 ],
 "metadata": {
  "kernelspec": {
   "display_name": "pytorch_2_1_1",
   "language": "python",
   "name": "python3"
  },
  "language_info": {
   "codemirror_mode": {
    "name": "ipython",
    "version": 3
   },
   "file_extension": ".py",
   "mimetype": "text/x-python",
   "name": "python",
   "nbconvert_exporter": "python",
   "pygments_lexer": "ipython3",
   "version": "3.11.5"
  }
 },
 "nbformat": 4,
 "nbformat_minor": 2
}
