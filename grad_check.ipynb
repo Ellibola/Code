{
 "cells": [
  {
   "cell_type": "code",
   "execution_count": 1,
   "metadata": {},
   "outputs": [],
   "source": [
    "import torch\n",
    "import torch.nn as nn\n",
    "import torch.nn.functional as F\n",
    "from models.quant_basic import *"
   ]
  },
  {
   "cell_type": "code",
   "execution_count": 14,
   "metadata": {},
   "outputs": [
    {
     "name": "stdout",
     "output_type": "stream",
     "text": [
      "The quantization function is: AQ_LSQ()\n",
      "\n",
      "x is : tensor([-0.3450, -1.0023, -0.5461, -1.4482,  1.8873], grad_fn=<SubBackward0>)\n",
      "\n",
      "out is : tensor([0.0000, 0.0000, 0.0000, 0.0000, 1.6201], grad_fn=<MulBackward0>)\n",
      "\n",
      "loss is : 0.32401737570762634\n",
      "\n",
      "out grad is : tensor([0.2000, 0.2000, 0.2000, 0.2000, 0.2000])\n",
      "\n",
      "x grad is : tensor([0.0000, 0.0000, 0.0000, 0.0000, 0.2000])\n",
      "\n",
      "Quant init state:False\n",
      "\n",
      "Step size:Parameter containing:\n",
      "tensor(0.5400, requires_grad=True)\n",
      "\n",
      "Step size gradient:-0.02555195800960064\n",
      "\n"
     ]
    }
   ],
   "source": [
    "q_a = get_quant('a', bit=4)\n",
    "print(\"The quantization function is: {}\\n\".format(q_a))\n",
    "x = 4*torch.rand(5,requires_grad=True)-2\n",
    "x.retain_grad()\n",
    "out = q_a(x)\n",
    "out.retain_grad()\n",
    "loss = out.mean()\n",
    "loss.backward()\n",
    "print(\"x is : {}\\n\".format(x))\n",
    "print(\"out is : {}\\n\".format(out))\n",
    "print(\"loss is : {}\\n\".format(loss))\n",
    "print(\"out grad is : {}\\n\".format(out.grad))\n",
    "print(\"x grad is : {}\\n\".format(x.grad))\n",
    "print(\"Quant init state:{}\\n\".format(q_a.init_flag))\n",
    "print(\"Step size:{}\\n\".format(q_a.step_size))\n",
    "print(\"Step size gradient:{}\\n\".format(q_a.step_size.grad))\n"
   ]
  }
 ],
 "metadata": {
  "kernelspec": {
   "display_name": "pytorch_2_1_1",
   "language": "python",
   "name": "python3"
  },
  "language_info": {
   "codemirror_mode": {
    "name": "ipython",
    "version": 3
   },
   "file_extension": ".py",
   "mimetype": "text/x-python",
   "name": "python",
   "nbconvert_exporter": "python",
   "pygments_lexer": "ipython3",
   "version": "3.11.5"
  }
 },
 "nbformat": 4,
 "nbformat_minor": 2
}
